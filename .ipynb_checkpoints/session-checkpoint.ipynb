{
 "cells": [
  {
   "cell_type": "code",
   "execution_count": 11,
   "id": "53d6cc43",
   "metadata": {},
   "outputs": [],
   "source": [
    "import branches\n",
    "import metrics\n",
    "import plotting\n",
    "import preprocess\n",
    "import segmentation\n",
    "import thresholding\n",
    "import file\n",
    "\n",
    "import numpy as np\n",
    "import os\n",
    "import matplotlib.pyplot as plt\n",
    "import pandas as pd\n",
    "import cv2\n",
    "import skimage.morphology as morphology"
   ]
  },
  {
   "cell_type": "code",
   "execution_count": 19,
   "id": "b8d91ff0",
   "metadata": {},
   "outputs": [],
   "source": [
    "parent_directory = os.path.split(file.current_directory)[0]\n",
    "datapath = parent_directory + \"\\\\training\\\\0520\\\\\"\n",
    "plotpath = parent_directory + \"\\\\plots\\\\\""
   ]
  },
  {
   "cell_type": "code",
   "execution_count": 12,
   "id": "dea4b476",
   "metadata": {},
   "outputs": [],
   "source": [
    "RNA = pd.read_csv(datapath + \"barcodes.csv\")"
   ]
  },
  {
   "cell_type": "markdown",
   "id": "dd4be971",
   "metadata": {},
   "source": [
    "### Create process and body image for dataset:"
   ]
  },
  {
   "cell_type": "code",
   "execution_count": 16,
   "id": "39b95c4e",
   "metadata": {},
   "outputs": [],
   "source": [
    "from skimage.measure import label\n",
    "\n",
    "processImageFile = datapath + \"processImage.npy\"\n",
    "somaImageFile = datapath + \"somaImage.npy\"\n",
    "\n",
    "if not (os.path.exists(processImageFile) and os.path.exists(somaImageFile)):\n",
    "\n",
    "        imname = 'preprocessed_Probabilities.png'\n",
    "\n",
    "        datafile = datapath + imname\n",
    "        segProbIm = cv2.imread(datafile)\n",
    "\n",
    "        print(\"thresholding image\")\n",
    "        thresholdedProcessImage, somaImage = thresholding.threshold_img(segProbIm)\n",
    "        print(\"breaking down image\")\n",
    "        brokenProcessImage, togetherskel = segmentation.break_down(thresholdedProcessImage)\n",
    "\n",
    "        cleanedProcessImage = morphology.remove_small_objects(brokenProcessImage>0,min_size=10,connectivity=1)\n",
    "\n",
    "        processImage = label(cleanedProcessImage,connectivity=1)\n",
    "        somaImage = label(somaImage,connectivity=1)\n",
    "\n",
    "        save(processImage, \"processImage\", datapath)\n",
    "        save(somaImage, \"somaImage\", datapath)\n",
    "\n",
    "processImage = np.load(processImageFile)\n",
    "somaImage = np.load(somaImageFile)"
   ]
  },
  {
   "cell_type": "markdown",
   "id": "67f883e2",
   "metadata": {},
   "source": [
    "### Build process and soma objects"
   ]
  },
  {
   "cell_type": "code",
   "execution_count": 18,
   "id": "12a24f58",
   "metadata": {},
   "outputs": [
    {
     "name": "stderr",
     "output_type": "stream",
     "text": [
      "building processes: 100%|█████████████████████████████████████████████████████████| 1110/1110 [00:10<00:00, 107.13it/s]\n",
      "100%|███████████████████████████████████████████████████████████████████████████████| 276/276 [00:02<00:00, 124.86it/s]\n"
     ]
    }
   ],
   "source": [
    "processes = branches.buildProcesses(processImage, RNA)\n",
    "somas = branches.buildSomas(somaImage, RNA)"
   ]
  },
  {
   "cell_type": "code",
   "execution_count": null,
   "id": "5f3cf03c",
   "metadata": {},
   "outputs": [],
   "source": [
    "bbs = [[300,1000,500,500],[3000,3300,500,500]]\n",
    "plotting.embedimg(processImage, )"
   ]
  }
 ],
 "metadata": {
  "kernelspec": {
   "display_name": "Python 3",
   "language": "python",
   "name": "python3"
  },
  "language_info": {
   "codemirror_mode": {
    "name": "ipython",
    "version": 3
   },
   "file_extension": ".py",
   "mimetype": "text/x-python",
   "name": "python",
   "nbconvert_exporter": "python",
   "pygments_lexer": "ipython3",
   "version": "3.9.5"
  }
 },
 "nbformat": 4,
 "nbformat_minor": 5
}
