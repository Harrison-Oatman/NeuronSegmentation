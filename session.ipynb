{
 "cells": [
  {
   "cell_type": "code",
   "execution_count": 5,
   "id": "0b5b7a0a",
   "metadata": {},
   "outputs": [],
   "source": [
    "import branches\n",
    "import metrics\n",
    "import plotting\n",
    "import preprocess\n",
    "import segmentation\n",
    "import thresholding\n",
    "import file\n",
    "\n",
    "import numpy as np\n",
    "import os\n",
    "import matplotlib.pyplot as plt"
   ]
  },
  {
   "cell_type": "code",
   "execution_count": 7,
   "id": "823729c7",
   "metadata": {},
   "outputs": [],
   "source": [
    "parent_directory = os.path.split(file.current_directory)[0]\n",
    "datapath = parent_directory + \"\\\\training\\\\0520\\\\\""
   ]
  },
  {
   "cell_type": "code",
   "execution_count": null,
   "id": "86a499d2",
   "metadata": {},
   "outputs": [],
   "source": []
  }
 ],
 "metadata": {
  "kernelspec": {
   "display_name": "Python 3",
   "language": "python",
   "name": "python3"
  },
  "language_info": {
   "codemirror_mode": {
    "name": "ipython",
    "version": 3
   },
   "file_extension": ".py",
   "mimetype": "text/x-python",
   "name": "python",
   "nbconvert_exporter": "python",
   "pygments_lexer": "ipython3",
   "version": "3.9.5"
  }
 },
 "nbformat": 4,
 "nbformat_minor": 5
}
