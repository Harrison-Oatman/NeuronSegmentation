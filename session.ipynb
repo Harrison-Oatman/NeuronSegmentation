{
 "cells": [
  {
   "cell_type": "code",
   "execution_count": 2,
   "id": "e37f1beb",
   "metadata": {},
   "outputs": [],
   "source": [
    "import branches\n",
    "import metrics\n",
    "import plotting\n",
    "import preprocess\n",
    "import segmentation\n",
    "import thresholding\n",
    "import file\n",
    "\n",
    "import numpy as np\n",
    "import os\n",
    "import matplotlib.pyplot as plt\n",
    "import pandas as pd\n",
    "import cv2\n",
    "import skimage.morphology as morphology"
   ]
  },
  {
   "cell_type": "code",
   "execution_count": 3,
   "id": "0b847a7d",
   "metadata": {},
   "outputs": [],
   "source": [
    "parent_directory = os.path.split(file.current_directory)[0]\n",
    "datapath = parent_directory + \"\\\\training\\\\0520\\\\\"\n",
    "plotpath = parent_directory + \"\\\\plots\\\\\""
   ]
  },
  {
   "cell_type": "code",
   "execution_count": 4,
   "id": "94d07e58",
   "metadata": {},
   "outputs": [],
   "source": [
    "RNA = pd.read_csv(datapath + \"barcodes.csv\")"
   ]
  },
  {
   "cell_type": "code",
   "execution_count": 5,
   "outputs": [],
   "source": [
    "def save(img,name,dir):\n",
    "    # saveim = Image.fromarray(img)\n",
    "    # saveim.save(dir+name)\n",
    "    np.save(dir+name+\".npy\",img)"
   ],
   "metadata": {
    "collapsed": false,
    "pycharm": {
     "name": "#%%\n"
    }
   }
  },
  {
   "cell_type": "markdown",
   "id": "64687450",
   "metadata": {},
   "source": [
    "### Create process and body image for dataset:"
   ]
  },
  {
   "cell_type": "code",
   "execution_count": 6,
   "id": "250baa7a",
   "metadata": {},
   "outputs": [],
   "source": [
    "from skimage.measure import label\n",
    "\n",
    "processImageFile = datapath + \"processImage.npy\"\n",
    "somaImageFile = datapath + \"somaImage.npy\"\n",
    "\n",
    "if not (os.path.exists(processImageFile) and os.path.exists(somaImageFile)):\n",
    "\n",
    "        imname = 'preprocessed_Probabilities.png'\n",
    "\n",
    "        datafile = datapath + imname\n",
    "        segProbIm = cv2.imread(datafile)\n",
    "\n",
    "        print(\"thresholding image\")\n",
    "        thresholdedProcessImage, somaImage = thresholding.threshold_img(segProbIm)\n",
    "        print(\"breaking down image\")\n",
    "        brokenProcessImage, togetherskel = segmentation.break_down(thresholdedProcessImage)\n",
    "\n",
    "        cleanedProcessImage = morphology.remove_small_objects(brokenProcessImage>0,min_size=10,connectivity=1)\n",
    "        cleanedSomaImage = morphology.remove_small_objects(somaImage>0,min_size=25,connectivity=1)\n",
    "\n",
    "        processImage = label(cleanedProcessImage,connectivity=1)\n",
    "        somaImage = label(cleanedSomaImage,connectivity=2)\n",
    "\n",
    "        save(processImage, \"processImage\", datapath)\n",
    "        save(somaImage, \"somaImage\", datapath)\n",
    "\n",
    "processImage = np.load(processImageFile)\n",
    "somaImage = np.load(somaImageFile)"
   ]
  },
  {
   "cell_type": "markdown",
   "id": "d41968b9",
   "metadata": {},
   "source": [
    "### Build process and soma objects"
   ]
  },
  {
   "cell_type": "code",
   "execution_count": 7,
   "id": "0700cbf3",
   "metadata": {},
   "outputs": [
    {
     "name": "stderr",
     "output_type": "stream",
     "text": [
      "building processes: 100%|██████████| 1110/1110 [00:10<00:00, 105.20it/s]\n",
      "100%|██████████| 142/142 [00:01<00:00, 100.26it/s]\n"
     ]
    }
   ],
   "source": [
    "processes = branches.buildProcesses(processImage, RNA)\n",
    "somas = branches.buildSomas(somaImage, RNA)"
   ]
  },
  {
   "cell_type": "code",
   "execution_count": 8,
   "id": "eaefe1e8",
   "metadata": {
    "scrolled": false
   },
   "outputs": [],
   "source": [
    "bbs = [[300,1000,500,500],[2500,2700,500,500]]\n",
    "\n",
    "baseimgfile = datapath+\"preprocessed.png\"\n",
    "baseimg = cv2.imread(baseimgfile)\n",
    "\n",
    "probimname = 'preprocessed_Probabilities.png'\n",
    "datafile = datapath + probimname\n",
    "segProbIm = cv2.imread(datafile)\n",
    "\n",
    "# plotting.embedimg(baseimg, bbs, plotpath)\n",
    "# plotting.embedimg(segProbIm, bbs, datapath, name=\"probabilities\")\n",
    "# plotting.embedimg(processImage, bbs, datapath, name=\"processImg\")"
   ]
  },
  {
   "cell_type": "code",
   "execution_count": 9,
   "id": "aff69f61",
   "metadata": {},
   "outputs": [],
   "source": [
    "for process in list(processes.values())[:20]:\n",
    "        neighbors = process.getNeighbors(somaImage, 'soma', 10)"
   ]
  },
  {
   "cell_type": "code",
   "execution_count": 10,
   "outputs": [],
   "source": [
    "# import importlib\n",
    "# importlib.reload(PyMC3)"
   ],
   "metadata": {
    "collapsed": false,
    "pycharm": {
     "name": "#%%\n"
    }
   }
  },
  {
   "cell_type": "code",
   "execution_count": 11,
   "outputs": [
    {
     "name": "stdout",
     "output_type": "stream",
     "text": [
      "[<branches.Branch object at 0x000002B594050DF0>, <branches.Branch object at 0x000002B58EF646A0>, <branches.Branch object at 0x000002B58EF7D610>, <branches.Branch object at 0x000002B58EF7DFD0>, <branches.Branch object at 0x000002B594050D00>, <branches.Branch object at 0x000002B5940505B0>, <branches.Branch object at 0x000002B594050EE0>]\n"
     ]
    },
    {
     "name": "stderr",
     "output_type": "stream",
     "text": [
      "C:\\Lab Work\\segmentation\\Segmentation\\branches.py:168: RuntimeWarning: invalid value encountered in multiply\n",
      "  disIm = (1 - self.im)*np.inf\n"
     ]
    }
   ],
   "source": [
    "branch_list = []\n",
    "for process in list(processes.values())[:20]:\n",
    "        for soma in process.neighbors['soma']:\n",
    "                root = branches.Root(somas[soma])\n",
    "                branch_list.append(branches.Branch(root, process))\n",
    "print(branch_list)"
   ],
   "metadata": {
    "collapsed": false,
    "pycharm": {
     "name": "#%%\n"
    }
   }
  },
  {
   "cell_type": "code",
   "execution_count": 12,
   "outputs": [
    {
     "name": "stdout",
     "output_type": "stream",
     "text": [
      "[ 52.1626118  26.1246118  76.8186118 110.1306118 112.9586118  61.3026118\n",
      " 133.6146118  57.2326118  59.2326118 115.5446118  48.3346118 129.0286118\n",
      "  25.9526118  40.8506118  61.0606118 110.1306118  82.2006118  74.1306118\n",
      "  70.9586118  48.3346118  51.9906118  59.7486118  96.3026118  93.5126118\n",
      "  86.0286118  62.7166118  84.5446118  91.8886118  99.7166118 115.9586118\n",
      " 130.6146118  83.0606118  58.6466118  61.7486118  25.3666118  93.9266118\n",
      "  92.5126118  65.0606118  43.2646118 135.6146118  23.9526118  70.9906118\n",
      "  95.8886118  66.4746118  93.5126118  46.6086118  27.9526118  59.5066118\n",
      "  50.7486118  23.9526118 137.2006118 131.7866118  36.1946118]\n",
      "[ 6.828 10.656  7.242  6.828  9.242 11.898  9.656 11.242  8.242 10.07\n",
      " 10.484 11.242 11.242 10.242 10.07   7.242  9.242 10.898  5.242  5.828\n",
      " 10.07   6.828  9.242  6.242  9.656 10.484 10.242 10.07   6.242  7.828\n",
      "  9.656  9.242  9.656 11.242  7.242  3.828  9.828  5.242]\n",
      "[ 9.47213595 20.54213595 15.71413595 10.88613595 14.88613595]\n",
      "[6. 6.]\n",
      "[ 42.14   45.382  22.07  ... 179.776 184.018 188.26 ]\n"
     ]
    }
   ],
   "source": [
    "for i, branch in enumerate(branch_list[:5]):\n",
    "        rnaids, rnadists = branch.get_rnadistances(True)\n",
    "        print(rnadists)\n",
    "        # plotting.plotKDE(rnadists, \"RNA distribution along candidate branch\", savefile=datapath+f'rnabranch{i}.png')"
   ],
   "metadata": {
    "collapsed": false,
    "pycharm": {
     "name": "#%%\n"
    }
   }
  },
  {
   "cell_type": "code",
   "execution_count": 13,
   "outputs": [],
   "source": [
    "for branch in branch_list[:5]:\n",
    "        process = branch.end\n",
    "        soma = branch.source.end\n",
    "        # print(process.ymin, process.xmin, process.label, process.neighbors)\n",
    "        # print(soma.ymin, soma.xmin, soma.label)\n",
    "        # plotting.implot(1*(processImage[branch.ymin:branch.ymax,branch.xmin:branch.xmax]==process.label) + (somaImage[branch.ymin:branch.ymax,branch.xmin:branch.xmax]==soma.label)*2, datapath, show=False)\n",
    "        # plotting.implot((somaImage[branch.ymin:branch.ymax,branch.xmin:branch.xmax]==soma.label)*2, datapath, show=False)\n",
    "        # plt.show()"
   ],
   "metadata": {
    "collapsed": false,
    "pycharm": {
     "name": "#%%\n"
    }
   }
  },
  {
   "cell_type": "code",
   "execution_count": 1,
   "outputs": [
    {
     "name": "stderr",
     "output_type": "stream",
     "text": [
      "WARNING (theano.configdefaults): g++ not available, if using conda: `conda install m2w64-toolchain`\n",
      "WARNING (theano.configdefaults): g++ not detected ! Theano will be unable to execute optimized C-implementations (for both CPU and GPU) and will default to Python implementations. Performance will be severely degraded. To remove this warning, set Theano flags cxx to an empty string.\n",
      "WARNING (theano.tensor.blas): Using NumPy C-API based implementation for BLAS functions.\n"
     ]
    },
    {
     "ename": "NameError",
     "evalue": "name 'branch_list' is not defined",
     "output_type": "error",
     "traceback": [
      "\u001B[1;31m---------------------------------------------------------------------------\u001B[0m",
      "\u001B[1;31mNameError\u001B[0m                                 Traceback (most recent call last)",
      "\u001B[1;32m<ipython-input-1-0c18ee49d1ac>\u001B[0m in \u001B[0;36m<module>\u001B[1;34m\u001B[0m\n\u001B[0;32m      1\u001B[0m \u001B[1;32mimport\u001B[0m \u001B[0mpymc3\u001B[0m \u001B[1;32mas\u001B[0m \u001B[0mpm\u001B[0m\u001B[1;33m\u001B[0m\u001B[1;33m\u001B[0m\u001B[0m\n\u001B[0;32m      2\u001B[0m \u001B[1;33m\u001B[0m\u001B[0m\n\u001B[1;32m----> 3\u001B[1;33m \u001B[0mbranch\u001B[0m \u001B[1;33m=\u001B[0m \u001B[0mbranch_list\u001B[0m\u001B[1;33m[\u001B[0m\u001B[1;36m4\u001B[0m\u001B[1;33m]\u001B[0m\u001B[1;33m\u001B[0m\u001B[1;33m\u001B[0m\u001B[0m\n\u001B[0m\u001B[0;32m      4\u001B[0m \u001B[1;33m\u001B[0m\u001B[0m\n\u001B[0;32m      5\u001B[0m \u001B[1;32mwith\u001B[0m \u001B[0mpm\u001B[0m\u001B[1;33m.\u001B[0m\u001B[0mModel\u001B[0m\u001B[1;33m(\u001B[0m\u001B[1;33m)\u001B[0m \u001B[1;32mas\u001B[0m \u001B[0mexperiment\u001B[0m\u001B[1;33m:\u001B[0m\u001B[1;33m\u001B[0m\u001B[1;33m\u001B[0m\u001B[0m\n",
      "\u001B[1;31mNameError\u001B[0m: name 'branch_list' is not defined"
     ]
    }
   ],
   "source": [
    "import pymc3 as pm\n",
    "\n",
    "branch = branch_list[4]\n",
    "\n",
    "with pm.Model() as experiment:\n",
    "        # beta = pm.Uniform('beta',0,1)\n",
    "        # sigma = pm.Bernoulli('sigma',p=beta)\n",
    "        lam = pm.HalfNormal('lam', sd = 5)\n",
    "        # x = pm.Uniform('x',np.min(branch.rnadists),np.max(branch.rnadists))\n",
    "        # distance = (2*sigma-1)*pm.Exponential('delta',lam) + x\n",
    "        y = pm.Exponential('y',lam,observed=branch.rnadists)\n",
    "\n",
    "        trace = pm.sample(10)\n",
    "        pm.plot_trace(trace)\n",
    "        plt.show()\n"
   ],
   "metadata": {
    "collapsed": false,
    "pycharm": {
     "name": "#%%\n"
    }
   }
  },
  {
   "cell_type": "code",
   "execution_count": null,
   "outputs": [],
   "source": [],
   "metadata": {
    "collapsed": false,
    "pycharm": {
     "name": "#%%\n"
    }
   }
  }
 ],
 "metadata": {
  "kernelspec": {
   "display_name": "Python 3",
   "language": "python",
   "name": "python3"
  },
  "language_info": {
   "codemirror_mode": {
    "name": "ipython",
    "version": 3
   },
   "file_extension": ".py",
   "mimetype": "text/x-python",
   "name": "python",
   "nbconvert_exporter": "python",
   "pygments_lexer": "ipython3",
   "version": "3.9.5"
  }
 },
 "nbformat": 4,
 "nbformat_minor": 5
}