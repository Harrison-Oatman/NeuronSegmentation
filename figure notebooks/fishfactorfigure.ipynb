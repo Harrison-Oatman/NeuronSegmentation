{
 "cells": [
  {
   "cell_type": "code",
   "execution_count": 1,
   "metadata": {
    "collapsed": true
   },
   "outputs": [
    {
     "name": "stdout",
     "output_type": "stream",
     "text": [
      "loading complete, calculating accuracy\n",
      "getting human labeled boundaries\n",
      "complete\n"
     ]
    }
   ],
   "source": [
    "from runner import *\n",
    "\n",
    "plotpath = parent_directory + \"\\\\plots\\\\\"\n",
    "plotting.set_dir(plotpath)"
   ]
  },
  {
   "cell_type": "code",
   "execution_count": 2,
   "outputs": [],
   "source": [
    "import sys\n",
    "sys.path.insert(1, 'C:\\\\Users\\\\Harrison\\\\Documents\\\\GitHub\\\\FISHFactor\\\\src')\n",
    "sys.path.insert(1, 'C:\\\\Users\\\\Harrison\\\\Documents\\\\GitHub\\\\FISHFactor')\n",
    "\n",
    "import torch\n",
    "import fishfactor\n",
    "import pyro\n",
    "import utils as fishutils\n",
    "import matplotlib"
   ],
   "metadata": {
    "collapsed": false,
    "pycharm": {
     "name": "#%%\n"
    }
   }
  },
  {
   "cell_type": "markdown",
   "source": [
    "## manage data"
   ],
   "metadata": {
    "collapsed": false
   }
  },
  {
   "cell_type": "markdown",
   "source": [
    "### use 25 most prevalent dendrite and soma genes"
   ],
   "metadata": {
    "collapsed": false
   }
  },
  {
   "cell_type": "code",
   "execution_count": 3,
   "outputs": [],
   "source": [
    "data = RNA.copy()\n",
    "\n",
    "## take data in region of interest\n",
    "# data = data.loc[(RNA['global_y'] > bbox_ymin) & (RNA['global_y'] < bbox_ymax) &\n",
    "#                    (RNA['global_x'] > bbox_xmin) & (RNA['global_x'] < bbox_xmax)]\n",
    "\n",
    "data = data.drop(columns=['x', 'y'])\n",
    "\n",
    "# take data with cell label\n",
    "data = data.loc[data['cell_index'] > 0]\n",
    "\n",
    "# find frequent dendrite and soma genes\n",
    "freq_dendrite = data.loc[data['process_index'] > 0]['barcode_id'].value_counts().index[:25]\n",
    "freq_soma = data.loc[data['process_index'] == 0]['barcode_id'].value_counts().index[:25]\n",
    "\n",
    "# take only most frequent dendrite and soma genes\n",
    "data = data[data['barcode_id'].isin(freq_dendrite.append(freq_soma))]\n",
    "\n",
    "# rename for fishfactor\n",
    "data = data.rename(columns={'global_x' : 'x',\n",
    "                            'global_y' : 'y',\n",
    "                            'barcode_id' : 'feature',\n",
    "                            'cell_index' : 'group'})\n",
    "\n",
    "all_data = data.copy()\n",
    "process_data = data.loc[data['process_index'] > 0].copy()\n",
    "soma_data = data.loc[data['process_index'] == 0].copy()"
   ],
   "metadata": {
    "collapsed": false,
    "pycharm": {
     "name": "#%%\n"
    }
   }
  },
  {
   "cell_type": "markdown",
   "source": [
    "## following FISHFactor's \"example.ipynb\""
   ],
   "metadata": {
    "collapsed": false
   }
  },
  {
   "cell_type": "code",
   "execution_count": 4,
   "outputs": [
    {
     "name": "stderr",
     "output_type": "stream",
     "text": [
      "C:\\Users\\Harrison\\anaconda3\\envs\\Segmentation\\lib\\site-packages\\torch\\functional.py:568: UserWarning: torch.meshgrid: in an upcoming release, it will be required to pass the indexing argument. (Triggered internally at  C:\\cb\\pytorch_1000000000000\\work\\aten\\src\\ATen\\native\\TensorShape.cpp:2228.)\n",
      "  return _VF.meshgrid(tensors, **kwargs)  # type: ignore[attr-defined]\n"
     ]
    }
   ],
   "source": [
    "device = 'cuda:0'\n",
    "\n",
    "model = fishfactor.FISHFactor(\n",
    "    data=all_data,\n",
    "    n_latents=3,\n",
    "    nu=1.5,\n",
    "    n_inducing=100,\n",
    "    grid_resolution=50,\n",
    "    min_density=0.1,\n",
    "    masks=None,\n",
    "    normalize_coordinates=True,\n",
    "    device=device\n",
    ").to(device=device)\n"
   ],
   "metadata": {
    "collapsed": false,
    "pycharm": {
     "name": "#%%\n"
    }
   }
  },
  {
   "cell_type": "code",
   "execution_count": 6,
   "outputs": [
    {
     "name": "stderr",
     "output_type": "stream",
     "text": [
      "C:\\Users\\Harrison\\anaconda3\\envs\\Segmentation\\lib\\site-packages\\gpytorch\\lazy\\triangular_lazy_tensor.py:130: UserWarning: torch.triangular_solve is deprecated in favor of torch.linalg.solve_triangularand will be removed in a future PyTorch release.\n",
      "torch.linalg.solve_triangular has its arguments reversed and does not return a copy of one of the inputs.\n",
      "X = torch.triangular_solve(B, A).solution\n",
      "should be replaced with\n",
      "X = torch.linalg.solve_triangular(A, B). (Triggered internally at  C:\\cb\\pytorch_1000000000000\\work\\aten\\src\\ATen\\native\\BatchLinearAlgebra.cpp:1672.)\n",
      "  res = torch.triangular_solve(right_tensor, self.evaluate(), upper=self.upper).solution\n"
     ]
    },
    {
     "name": "stdout",
     "output_type": "stream",
     "text": [
      "epoch: 0, loss: -0.0106, min loss: [100000.0, 100000.0, 100000.0, 100000.0], patience: 3000\n"
     ]
    },
    {
     "ename": "RuntimeError",
     "evalue": "CUDA out of memory. Tried to allocate 482.00 MiB (GPU 0; 6.00 GiB total capacity; 3.42 GiB already allocated; 473.12 MiB free; 3.91 GiB reserved in total by PyTorch) If reserved memory is >> allocated memory try setting max_split_size_mb to avoid fragmentation.  See documentation for Memory Management and PYTORCH_CUDA_ALLOC_CONF",
     "output_type": "error",
     "traceback": [
      "\u001B[1;31m---------------------------------------------------------------------------\u001B[0m",
      "\u001B[1;31mRuntimeError\u001B[0m                              Traceback (most recent call last)",
      "Input \u001B[1;32mIn [6]\u001B[0m, in \u001B[0;36m<cell line: 1>\u001B[1;34m()\u001B[0m\n\u001B[1;32m----> 1\u001B[0m results \u001B[38;5;241m=\u001B[39m \u001B[43mmodel\u001B[49m\u001B[38;5;241;43m.\u001B[39;49m\u001B[43minference\u001B[49m\u001B[43m(\u001B[49m\n\u001B[0;32m      2\u001B[0m \u001B[43m    \u001B[49m\u001B[43mlr\u001B[49m\u001B[38;5;241;43m=\u001B[39;49m\u001B[38;5;241;43m5e-3\u001B[39;49m\u001B[43m,\u001B[49m\n\u001B[0;32m      3\u001B[0m \u001B[43m    \u001B[49m\u001B[43mlrd\u001B[49m\u001B[38;5;241;43m=\u001B[39;49m\u001B[38;5;241;43m0.5\u001B[39;49m\u001B[38;5;241;43m*\u001B[39;49m\u001B[38;5;241;43m*\u001B[39;49m\u001B[43m(\u001B[49m\u001B[38;5;241;43m1\u001B[39;49m\u001B[43m \u001B[49m\u001B[38;5;241;43m/\u001B[39;49m\u001B[43m \u001B[49m\u001B[38;5;241;43m2000\u001B[39;49m\u001B[43m)\u001B[49m\u001B[43m,\u001B[49m\n\u001B[0;32m      4\u001B[0m \u001B[43m    \u001B[49m\u001B[43mn_particles\u001B[49m\u001B[38;5;241;43m=\u001B[39;49m\u001B[38;5;241;43m3\u001B[39;49m\u001B[43m,\u001B[49m\n\u001B[0;32m      5\u001B[0m \u001B[43m    \u001B[49m\u001B[43mmax_epochs\u001B[49m\u001B[38;5;241;43m=\u001B[39;49m\u001B[38;5;241;43m20000\u001B[39;49m\u001B[43m,\u001B[49m\n\u001B[0;32m      6\u001B[0m \u001B[43m    \u001B[49m\u001B[43mpatience\u001B[49m\u001B[38;5;241;43m=\u001B[39;49m\u001B[38;5;241;43m3000\u001B[39;49m\u001B[43m,\u001B[49m\n\u001B[0;32m      7\u001B[0m \u001B[43m    \u001B[49m\u001B[43mdelta\u001B[49m\u001B[38;5;241;43m=\u001B[39;49m\u001B[38;5;241;43m0.01\u001B[39;49m\u001B[43m,\u001B[49m\n\u001B[0;32m      8\u001B[0m \u001B[43m    \u001B[49m\u001B[43msave_every\u001B[49m\u001B[38;5;241;43m=\u001B[39;49m\u001B[38;5;28;43;01mNone\u001B[39;49;00m\u001B[43m,\u001B[49m\n\u001B[0;32m      9\u001B[0m \u001B[43m    \u001B[49m\u001B[43msave_dir\u001B[49m\u001B[38;5;241;43m=\u001B[39;49m\u001B[38;5;28;43;01mNone\u001B[39;49;00m\u001B[43m,\u001B[49m\n\u001B[0;32m     10\u001B[0m \u001B[43m    \u001B[49m\u001B[43mmax_points\u001B[49m\u001B[38;5;241;43m=\u001B[39;49m\u001B[38;5;241;43m10000\u001B[39;49m\u001B[43m,\u001B[49m\n\u001B[0;32m     11\u001B[0m \u001B[43m    \u001B[49m\u001B[43mprint_every\u001B[49m\u001B[38;5;241;43m=\u001B[39;49m\u001B[38;5;241;43m500\u001B[39;49m\u001B[43m,\u001B[49m\n\u001B[0;32m     12\u001B[0m \u001B[43m)\u001B[49m\n",
      "File \u001B[1;32m~\\Documents\\GitHub\\FISHFactor\\src\\fishfactor.py:416\u001B[0m, in \u001B[0;36mFISHFactor.inference\u001B[1;34m(self, lr, lrd, n_particles, max_epochs, patience, delta, save_every, save_dir, max_points, print_every)\u001B[0m\n\u001B[0;32m    414\u001B[0m \u001B[38;5;28;01mwith\u001B[39;00m pyro\u001B[38;5;241m.\u001B[39mpoutine\u001B[38;5;241m.\u001B[39mscale(scale\u001B[38;5;241m=\u001B[39m\u001B[38;5;241m1.0\u001B[39m \u001B[38;5;241m/\u001B[39m \u001B[38;5;28mabs\u001B[39m(init_loss)):\n\u001B[0;32m    415\u001B[0m     \u001B[38;5;28mself\u001B[39m\u001B[38;5;241m.\u001B[39mzero_grad()\n\u001B[1;32m--> 416\u001B[0m     loss\u001B[38;5;241m.\u001B[39mappend(\u001B[43msvi\u001B[49m\u001B[38;5;241;43m.\u001B[39;49m\u001B[43mstep\u001B[49m\u001B[43m(\u001B[49m\u001B[38;5;28;43mself\u001B[39;49m\u001B[38;5;241;43m.\u001B[39;49m\u001B[43mdata_tensor\u001B[49m\u001B[43m,\u001B[49m\u001B[43m \u001B[49m\u001B[43msubsample_inds\u001B[49m\u001B[43m)\u001B[49m)\n\u001B[0;32m    418\u001B[0m \u001B[38;5;28;01mif\u001B[39;00m epoch \u001B[38;5;241m%\u001B[39m print_every \u001B[38;5;241m==\u001B[39m \u001B[38;5;241m0\u001B[39m:\n\u001B[0;32m    419\u001B[0m     \u001B[38;5;28mprint\u001B[39m(\n\u001B[0;32m    420\u001B[0m         \u001B[38;5;124m'\u001B[39m\u001B[38;5;124mepoch: \u001B[39m\u001B[38;5;132;01m%s\u001B[39;00m\u001B[38;5;124m, loss: \u001B[39m\u001B[38;5;132;01m%s\u001B[39;00m\u001B[38;5;124m, min loss: \u001B[39m\u001B[38;5;132;01m%s\u001B[39;00m\u001B[38;5;124m, patience: \u001B[39m\u001B[38;5;132;01m%s\u001B[39;00m\u001B[38;5;124m'\u001B[39m\n\u001B[0;32m    421\u001B[0m         \u001B[38;5;241m%\u001B[39m(epoch, \u001B[38;5;28mround\u001B[39m(loss[\u001B[38;5;241m-\u001B[39m\u001B[38;5;241m1\u001B[39m], \u001B[38;5;241m4\u001B[39m), min_loss\u001B[38;5;241m.\u001B[39mtolist(), patience \u001B[38;5;241m-\u001B[39m wait_epochs)\n\u001B[0;32m    422\u001B[0m     )\n",
      "File \u001B[1;32m~\\anaconda3\\envs\\Segmentation\\lib\\site-packages\\pyro\\infer\\svi.py:145\u001B[0m, in \u001B[0;36mSVI.step\u001B[1;34m(self, *args, **kwargs)\u001B[0m\n\u001B[0;32m    143\u001B[0m \u001B[38;5;66;03m# get loss and compute gradients\u001B[39;00m\n\u001B[0;32m    144\u001B[0m \u001B[38;5;28;01mwith\u001B[39;00m poutine\u001B[38;5;241m.\u001B[39mtrace(param_only\u001B[38;5;241m=\u001B[39m\u001B[38;5;28;01mTrue\u001B[39;00m) \u001B[38;5;28;01mas\u001B[39;00m param_capture:\n\u001B[1;32m--> 145\u001B[0m     loss \u001B[38;5;241m=\u001B[39m \u001B[38;5;28mself\u001B[39m\u001B[38;5;241m.\u001B[39mloss_and_grads(\u001B[38;5;28mself\u001B[39m\u001B[38;5;241m.\u001B[39mmodel, \u001B[38;5;28mself\u001B[39m\u001B[38;5;241m.\u001B[39mguide, \u001B[38;5;241m*\u001B[39margs, \u001B[38;5;241m*\u001B[39m\u001B[38;5;241m*\u001B[39mkwargs)\n\u001B[0;32m    147\u001B[0m params \u001B[38;5;241m=\u001B[39m \u001B[38;5;28mset\u001B[39m(\n\u001B[0;32m    148\u001B[0m     site[\u001B[38;5;124m\"\u001B[39m\u001B[38;5;124mvalue\u001B[39m\u001B[38;5;124m\"\u001B[39m]\u001B[38;5;241m.\u001B[39munconstrained() \u001B[38;5;28;01mfor\u001B[39;00m site \u001B[38;5;129;01min\u001B[39;00m param_capture\u001B[38;5;241m.\u001B[39mtrace\u001B[38;5;241m.\u001B[39mnodes\u001B[38;5;241m.\u001B[39mvalues()\n\u001B[0;32m    149\u001B[0m )\n\u001B[0;32m    151\u001B[0m \u001B[38;5;66;03m# actually perform gradient steps\u001B[39;00m\n\u001B[0;32m    152\u001B[0m \u001B[38;5;66;03m# torch.optim objects gets instantiated for any params that haven't been seen yet\u001B[39;00m\n",
      "File \u001B[1;32m~\\anaconda3\\envs\\Segmentation\\lib\\site-packages\\pyro\\infer\\trace_elbo.py:157\u001B[0m, in \u001B[0;36mTrace_ELBO.loss_and_grads\u001B[1;34m(self, model, guide, *args, **kwargs)\u001B[0m\n\u001B[0;32m    153\u001B[0m     \u001B[38;5;28;01mif\u001B[39;00m trainable_params \u001B[38;5;129;01mand\u001B[39;00m \u001B[38;5;28mgetattr\u001B[39m(\n\u001B[0;32m    154\u001B[0m         surrogate_loss_particle, \u001B[38;5;124m\"\u001B[39m\u001B[38;5;124mrequires_grad\u001B[39m\u001B[38;5;124m\"\u001B[39m, \u001B[38;5;28;01mFalse\u001B[39;00m\n\u001B[0;32m    155\u001B[0m     ):\n\u001B[0;32m    156\u001B[0m         surrogate_loss_particle \u001B[38;5;241m=\u001B[39m surrogate_loss_particle \u001B[38;5;241m/\u001B[39m \u001B[38;5;28mself\u001B[39m\u001B[38;5;241m.\u001B[39mnum_particles\n\u001B[1;32m--> 157\u001B[0m         \u001B[43msurrogate_loss_particle\u001B[49m\u001B[38;5;241;43m.\u001B[39;49m\u001B[43mbackward\u001B[49m\u001B[43m(\u001B[49m\u001B[43mretain_graph\u001B[49m\u001B[38;5;241;43m=\u001B[39;49m\u001B[38;5;28;43mself\u001B[39;49m\u001B[38;5;241;43m.\u001B[39;49m\u001B[43mretain_graph\u001B[49m\u001B[43m)\u001B[49m\n\u001B[0;32m    158\u001B[0m warn_if_nan(loss, \u001B[38;5;124m\"\u001B[39m\u001B[38;5;124mloss\u001B[39m\u001B[38;5;124m\"\u001B[39m)\n\u001B[0;32m    159\u001B[0m \u001B[38;5;28;01mreturn\u001B[39;00m loss\n",
      "File \u001B[1;32m~\\anaconda3\\envs\\Segmentation\\lib\\site-packages\\torch\\_tensor.py:363\u001B[0m, in \u001B[0;36mTensor.backward\u001B[1;34m(self, gradient, retain_graph, create_graph, inputs)\u001B[0m\n\u001B[0;32m    354\u001B[0m \u001B[38;5;28;01mif\u001B[39;00m has_torch_function_unary(\u001B[38;5;28mself\u001B[39m):\n\u001B[0;32m    355\u001B[0m     \u001B[38;5;28;01mreturn\u001B[39;00m handle_torch_function(\n\u001B[0;32m    356\u001B[0m         Tensor\u001B[38;5;241m.\u001B[39mbackward,\n\u001B[0;32m    357\u001B[0m         (\u001B[38;5;28mself\u001B[39m,),\n\u001B[1;32m   (...)\u001B[0m\n\u001B[0;32m    361\u001B[0m         create_graph\u001B[38;5;241m=\u001B[39mcreate_graph,\n\u001B[0;32m    362\u001B[0m         inputs\u001B[38;5;241m=\u001B[39minputs)\n\u001B[1;32m--> 363\u001B[0m \u001B[43mtorch\u001B[49m\u001B[38;5;241;43m.\u001B[39;49m\u001B[43mautograd\u001B[49m\u001B[38;5;241;43m.\u001B[39;49m\u001B[43mbackward\u001B[49m\u001B[43m(\u001B[49m\u001B[38;5;28;43mself\u001B[39;49m\u001B[43m,\u001B[49m\u001B[43m \u001B[49m\u001B[43mgradient\u001B[49m\u001B[43m,\u001B[49m\u001B[43m \u001B[49m\u001B[43mretain_graph\u001B[49m\u001B[43m,\u001B[49m\u001B[43m \u001B[49m\u001B[43mcreate_graph\u001B[49m\u001B[43m,\u001B[49m\u001B[43m \u001B[49m\u001B[43minputs\u001B[49m\u001B[38;5;241;43m=\u001B[39;49m\u001B[43minputs\u001B[49m\u001B[43m)\u001B[49m\n",
      "File \u001B[1;32m~\\anaconda3\\envs\\Segmentation\\lib\\site-packages\\torch\\autograd\\__init__.py:173\u001B[0m, in \u001B[0;36mbackward\u001B[1;34m(tensors, grad_tensors, retain_graph, create_graph, grad_variables, inputs)\u001B[0m\n\u001B[0;32m    168\u001B[0m     retain_graph \u001B[38;5;241m=\u001B[39m create_graph\n\u001B[0;32m    170\u001B[0m \u001B[38;5;66;03m# The reason we repeat same the comment below is that\u001B[39;00m\n\u001B[0;32m    171\u001B[0m \u001B[38;5;66;03m# some Python versions print out the first line of a multi-line function\u001B[39;00m\n\u001B[0;32m    172\u001B[0m \u001B[38;5;66;03m# calls in the traceback and some print out the last line\u001B[39;00m\n\u001B[1;32m--> 173\u001B[0m \u001B[43mVariable\u001B[49m\u001B[38;5;241;43m.\u001B[39;49m\u001B[43m_execution_engine\u001B[49m\u001B[38;5;241;43m.\u001B[39;49m\u001B[43mrun_backward\u001B[49m\u001B[43m(\u001B[49m\u001B[43m  \u001B[49m\u001B[38;5;66;43;03m# Calls into the C++ engine to run the backward pass\u001B[39;49;00m\n\u001B[0;32m    174\u001B[0m \u001B[43m    \u001B[49m\u001B[43mtensors\u001B[49m\u001B[43m,\u001B[49m\u001B[43m \u001B[49m\u001B[43mgrad_tensors_\u001B[49m\u001B[43m,\u001B[49m\u001B[43m \u001B[49m\u001B[43mretain_graph\u001B[49m\u001B[43m,\u001B[49m\u001B[43m \u001B[49m\u001B[43mcreate_graph\u001B[49m\u001B[43m,\u001B[49m\u001B[43m \u001B[49m\u001B[43minputs\u001B[49m\u001B[43m,\u001B[49m\n\u001B[0;32m    175\u001B[0m \u001B[43m    \u001B[49m\u001B[43mallow_unreachable\u001B[49m\u001B[38;5;241;43m=\u001B[39;49m\u001B[38;5;28;43;01mTrue\u001B[39;49;00m\u001B[43m,\u001B[49m\u001B[43m \u001B[49m\u001B[43maccumulate_grad\u001B[49m\u001B[38;5;241;43m=\u001B[39;49m\u001B[38;5;28;43;01mTrue\u001B[39;49;00m\u001B[43m)\u001B[49m\n",
      "\u001B[1;31mRuntimeError\u001B[0m: CUDA out of memory. Tried to allocate 482.00 MiB (GPU 0; 6.00 GiB total capacity; 3.42 GiB already allocated; 473.12 MiB free; 3.91 GiB reserved in total by PyTorch) If reserved memory is >> allocated memory try setting max_split_size_mb to avoid fragmentation.  See documentation for Memory Management and PYTORCH_CUDA_ALLOC_CONF"
     ]
    }
   ],
   "source": [
    "results = model.inference(\n",
    "    lr=5e-3,\n",
    "    lrd=0.5**(1 / 2000),\n",
    "    n_particles=3,\n",
    "    max_epochs=20000,\n",
    "    patience=3000,\n",
    "    delta=0.01,\n",
    "    save_every=None,\n",
    "    save_dir=None,\n",
    "    max_points=10000,\n",
    "    print_every=500,\n",
    ")"
   ],
   "metadata": {
    "collapsed": false,
    "pycharm": {
     "name": "#%%\n"
    }
   }
  },
  {
   "cell_type": "code",
   "execution_count": 18,
   "outputs": [
    {
     "data": {
      "text/plain": "<Figure size 864x360 with 3 Axes>",
      "image/png": "[encoded data removed]"
     },
     "metadata": {
      "needs_background": "light"
     },
     "output_type": "display_data"
    }
   ],
   "source": [
    "# index between 0 and 14\n",
    "evaluation_cell = 2\n",
    "\n",
    "z = fishutils.gp_percentiles(\n",
    "    model=model.gp_list[evaluation_cell],\n",
    "    coords=model.grid,\n",
    "    percentiles=[0.5],\n",
    "    n_samples=10,\n",
    ")[0].detach().cpu()\n",
    "\n",
    "mask = model.masks[evaluation_cell].cpu()\n",
    "\n",
    "fig, axs = plt.subplots(1, z.shape[0], figsize=(4 * z.shape[0], 5))\n",
    "fig.suptitle('Inferred factors')\n",
    "\n",
    "for i, ax in enumerate(axs.flatten()):\n",
    "    ax.matshow(z[i].view(model.grid_resolution, model.grid_resolution) * mask, origin='lower', cmap='Blues', vmax=z.max())\n",
    "    ax.axis('off')\n",
    "\n",
    "plt.tight_layout()"
   ],
   "metadata": {
    "collapsed": false,
    "pycharm": {
     "name": "#%%\n"
    }
   }
  },
  {
   "cell_type": "code",
   "execution_count": null,
   "outputs": [],
   "source": [],
   "metadata": {
    "collapsed": false,
    "pycharm": {
     "name": "#%%\n"
    }
   }
  }
 ],
 "metadata": {
  "kernelspec": {
   "display_name": "Python 3",
   "language": "python",
   "name": "python3"
  },
  "language_info": {
   "codemirror_mode": {
    "name": "ipython",
    "version": 2
   },
   "file_extension": ".py",
   "mimetype": "text/x-python",
   "name": "python",
   "nbconvert_exporter": "python",
   "pygments_lexer": "ipython2",
   "version": "2.7.6"
  }
 },
 "nbformat": 4,
 "nbformat_minor": 0
}