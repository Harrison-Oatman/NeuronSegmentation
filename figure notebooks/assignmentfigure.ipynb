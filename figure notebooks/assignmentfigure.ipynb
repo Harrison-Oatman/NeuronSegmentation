{
 "cells": [
  {
   "cell_type": "code",
   "execution_count": 1,
   "metadata": {
    "collapsed": true
   },
   "outputs": [
    {
     "name": "stdout",
     "output_type": "stream",
     "text": [
      "loading complete, calculating accuracy\n",
      "getting human labeled boundaries\n",
      "complete\n"
     ]
    }
   ],
   "source": [
    "import crossing_calc\n",
    "import plotting\n",
    "from runner import *\n",
    "\n",
    "plotpath = parent_directory + \"\\\\plots\\\\\"\n",
    "plotting.set_dir(plotpath)"
   ]
  },
  {
   "cell_type": "code",
   "execution_count": 8,
   "outputs": [
    {
     "name": "stderr",
     "output_type": "stream",
     "text": [
      "evaluating neighbor relationships: 1494it [00:00, 71127.02it/s]\n",
      "evaluating neighbor relationships: 124it [00:00, 41326.48it/s]\n",
      "C:\\Users\\Harrison\\AppData\\Local\\Temp/ipykernel_25488/3295557144.py:8: RuntimeWarning: invalid value encountered in subtract\n",
      "  cost_one = cleaned_dis_arr - 1.5 * (cross_times_dis)\n",
      "C:\\Lab Work\\segmentation\\Segmentation\\assignment.py:89: RuntimeWarning: overflow encountered in long_scalars\n",
      "  processLabel[i] = label_body * 10 + label_tail\n"
     ]
    },
    {
     "name": "stdout",
     "output_type": "stream",
     "text": [
      "[  27   27   27 ... 1445   27 1416]\n"
     ]
    }
   ],
   "source": [
    "# from assignment import *\n",
    "#\n",
    "# process_image = processImage\n",
    "# soma_image = somaImage\n",
    "# rna = RNA\n",
    "#\n",
    "# distance_dict = distance_calc.image_to_distances(process_image)\n",
    "#\n",
    "# n = np.max(process_image) + 1\n",
    "# dis_array = distance_calc.get_distance_mat(distance_dict,n)\n",
    "# cross_arr, branch_arr = crossing_calc.get_crossing_mats(cp_involved, bp_involved, process_image)\n",
    "#\n",
    "# cleaned_cost_arr = secret_sauce(dis_array, cross_arr, branch_arr)\n",
    "#\n",
    "# roots, parent_cells = roots_calc.get_roots_and_parents(process_image, soma_image)\n",
    "# assigned, unassigned = roots_calc.assignments_from_roots(roots)\n",
    "#\n",
    "# assignments = hierarchy_join(assigned, unassigned, cleaned_cost_arr)\n",
    "#\n",
    "# process_labels = get_process_label(assignments, parent_cells)\n",
    "# cell_image = get_cell_image(process_image, assignments, parent_cells, soma_image)\n",
    "# new_rna = get_new_rna(rna, process_image, process_labels, cell_image)"
   ],
   "metadata": {
    "collapsed": false,
    "pycharm": {
     "name": "#%%\n"
    }
   }
  },
  {
   "cell_type": "code",
   "execution_count": 13,
   "outputs": [
    {
     "data": {
      "text/plain": "<Figure size 720x720 with 1 Axes>",
      "image/png": "[encoded data removed]"
     },
     "metadata": {},
     "output_type": "display_data"
    },
    {
     "data": {
      "text/plain": "(<Figure size 720x720 with 1 Axes>, <AxesSubplot:>)"
     },
     "execution_count": 13,
     "metadata": {},
     "output_type": "execute_result"
    }
   ],
   "source": [
    "# permuted_cell_image = plotting.permute_image(cell_image)\n",
    "# permuted_human_cell_image = plotting.permute_image(humanCellImage)\n",
    "# \n",
    "# plotting.colorplot(plotting.panel(permuted_cell_image, bbox, 1), two_map, interpolation=\"None\",\n",
    "#                    name=\"permutedcellimage\")\n",
    "# plotting.colorplot(plotting.panel(permuted_human_cell_image, bbox, 1), two_map, interpolation=\"None\",\n",
    "#                    name=\"humanprocessimage\")\n",
    "# plotting.embedimg(permuted_cell_image, bbox, interpolation=\"None\",\n",
    "#                    name=\"permutedcellimage_embed\")"
   ],
   "metadata": {
    "collapsed": false,
    "pycharm": {
     "name": "#%%\n"
    }
   }
  },
  {
   "cell_type": "code",
   "execution_count": null,
   "outputs": [],
   "source": [],
   "metadata": {
    "collapsed": false,
    "pycharm": {
     "name": "#%%\n"
    }
   }
  }
 ],
 "metadata": {
  "kernelspec": {
   "display_name": "Python 3",
   "language": "python",
   "name": "python3"
  },
  "language_info": {
   "codemirror_mode": {
    "name": "ipython",
    "version": 2
   },
   "file_extension": ".py",
   "mimetype": "text/x-python",
   "name": "python",
   "nbconvert_exporter": "python",
   "pygments_lexer": "ipython2",
   "version": "2.7.6"
  }
 },
 "nbformat": 4,
 "nbformat_minor": 0
}