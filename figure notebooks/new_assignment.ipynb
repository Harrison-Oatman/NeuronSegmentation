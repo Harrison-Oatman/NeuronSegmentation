{
 "cells": [
  {
   "cell_type": "code",
   "execution_count": 1,
   "metadata": {
    "collapsed": true
   },
   "outputs": [
    {
     "name": "stdout",
     "output_type": "stream",
     "text": [
      "loading complete, calculating accuracy\n",
      "getting human labeled boundaries\n",
      "complete\n"
     ]
    }
   ],
   "source": [
    "import numpy as np\n",
    "import pandas\n",
    "\n",
    "from runner import *\n",
    "\n",
    "plotpath = parent_directory + \"\\\\plots\\\\\"\n",
    "plotting.set_dir(plotpath)"
   ]
  },
  {
   "cell_type": "code",
   "execution_count": 2,
   "outputs": [],
   "source": [
    "# pre_segmentation_image = np.array((thresholdedProcessImage > 0) + 2 * (somaImage > 0), dtype=float)\n",
    "#\n",
    "# plotting.colorplot(plotting.panel(pre_segmentation_image, bbox, 1), two_map, interpolation=\"None\",\n",
    "#                    name=\"temp\")"
   ],
   "metadata": {
    "collapsed": false,
    "pycharm": {
     "name": "#%%\n"
    }
   }
  },
  {
   "cell_type": "code",
   "execution_count": 3,
   "outputs": [
    {
     "name": "stdout",
     "output_type": "stream",
     "text": [
      "minimum 209\n"
     ]
    }
   ],
   "source": [
    "cell_rna = RNA[RNA['cell_index'] > 0].copy()\n",
    "\n",
    "blanks = cell_rna[cell_rna['barcode_id'] < 290]\n",
    "minimum = np.array(blanks['barcode_id'].value_counts().reset_index(name='counts')['counts'])[int(np.floor(290*0.05))]\n",
    "print(f'minimum {minimum}')\n",
    "\n",
    "reals = cell_rna[cell_rna['barcode_id'] > 290]\n",
    "\n",
    "real_counts = reals['barcode_id'].value_counts().rename_axis('barcode_id').reset_index(name='counts')\n",
    "usable_ids = real_counts[real_counts['counts'] > minimum]"
   ],
   "metadata": {
    "collapsed": false,
    "pycharm": {
     "name": "#%%\n"
    }
   }
  },
  {
   "cell_type": "code",
   "execution_count": 4,
   "outputs": [],
   "source": [
    "rna_p = RNA.copy()\n",
    "rna_p['y'] = (np.floor(rna_p['global_y'])).astype(int)\n",
    "rna_p['x'] = (np.floor(rna_p['global_x'])).astype(int)\n",
    "rna_p['process'] = processImage[rna_p['y'], rna_p['x']]\n",
    "rna_p['soma'] = somaImage[rna_p['y'], rna_p['x']]"
   ],
   "metadata": {
    "collapsed": false,
    "pycharm": {
     "name": "#%%\n"
    }
   }
  },
  {
   "cell_type": "code",
   "execution_count": 5,
   "outputs": [
    {
     "name": "stdout",
     "output_type": "stream",
     "text": [
      "barcode_id      291       292       294       296       297       298   \\\n",
      "soma                                                                     \n",
      "0          -6.939610 -5.784667 -6.231672 -7.722783 -5.594293 -7.070307   \n",
      "1          -7.075527 -6.228229 -6.094698 -7.480992 -7.075527 -8.174139   \n",
      "2          -6.753438 -6.060291 -5.821880 -7.372477 -6.140333 -9.318387   \n",
      "3          -6.756118 -6.286114 -5.015652 -7.449265 -5.321034 -6.350653   \n",
      "4          -6.680070 -6.456927 -5.501415 -6.680070 -5.815073 -5.815073   \n",
      "...              ...       ...       ...       ...       ...       ...   \n",
      "138        -7.396949 -6.634809 -6.123983 -7.551099 -8.244246 -6.509645   \n",
      "139        -8.373092 -6.763654 -5.888185 -7.274480 -7.679945 -6.986797   \n",
      "140        -6.823649 -5.619676 -6.312823 -7.922261 -7.922261 -6.823649   \n",
      "141        -8.127700 -5.729805 -5.930475 -6.518262 -8.127700 -6.741405   \n",
      "142        -6.820835 -7.108517 -5.280390 -7.226300 -8.207129 -7.359831   \n",
      "\n",
      "barcode_id      299       301       302       303   ...      1227      1228  \\\n",
      "soma                                                ...                       \n",
      "0          -6.895878 -4.934690 -5.813778 -7.267838  ... -8.122828 -8.117438   \n",
      "1          -7.480992 -5.609190 -7.075527 -7.480992  ... -7.480992 -7.480992   \n",
      "2          -6.833481 -5.792027 -5.986183 -7.121163  ... -8.625240 -7.121163   \n",
      "3          -6.979262 -6.062971 -5.369824 -7.672409  ... -7.672409 -6.979262   \n",
      "4          -6.562287 -6.967752 -5.926298 -7.150074  ... -8.066365 -8.066365   \n",
      "...              ...       ...       ...       ...  ...       ...       ...   \n",
      "138        -7.263417 -5.248514 -7.263417 -6.452487  ... -7.956564 -7.551099   \n",
      "139        -7.679945 -6.986797 -8.373092 -7.274480  ... -7.679945 -8.373092   \n",
      "140        -7.922261 -5.725036 -7.922261 -7.922261  ... -7.229114 -7.922261   \n",
      "141        -8.127700 -5.930475 -7.434553 -6.741405  ... -8.127700 -8.127700   \n",
      "142        -6.047645 -5.809234 -7.226300 -7.513982  ... -7.919447 -7.513982   \n",
      "\n",
      "barcode_id      1229      1230      1232      1235      1236      1237  \\\n",
      "soma                                                                     \n",
      "0          -7.829755 -7.609843 -8.059981 -6.800712 -7.177766 -5.586133   \n",
      "1          -7.480992 -7.075527 -7.480992 -6.787845 -6.564701 -6.787845   \n",
      "2          -7.708949 -6.428016 -8.625240 -7.372477 -7.372477 -5.629508   \n",
      "3          -9.058703 -6.168331 -7.449265 -6.014181 -6.286114 -5.107459   \n",
      "4          -8.759512 -7.373217 -6.361616 -6.456927 -6.562287 -5.148594   \n",
      "...              ...       ...       ...       ...       ...       ...   \n",
      "138        -8.649712 -8.649712 -9.342859 -6.251816 -7.956564 -6.047022   \n",
      "139        -8.373092 -7.679945 -7.679945 -6.581332 -5.888185 -4.735506   \n",
      "140        -7.922261 -7.922261 -7.922261 -6.535967 -6.823649 -4.456525   \n",
      "141        -7.434553 -8.127700 -8.127700 -6.335940 -5.729805 -4.631192   \n",
      "142        -8.612594 -6.666684 -7.513982 -6.740792 -6.009905 -5.280390   \n",
      "\n",
      "barcode_id      1238      1239  \n",
      "soma                            \n",
      "0          -6.341028 -7.009905  \n",
      "1          -6.382380 -8.174139  \n",
      "2          -6.753438 -7.238946  \n",
      "3          -5.839827 -6.756118  \n",
      "4          -5.763779 -6.967752  \n",
      "...              ...       ...  \n",
      "138        -6.944963 -6.452487  \n",
      "139        -7.679945 -6.175867  \n",
      "140        -6.312823 -6.535967  \n",
      "141        -6.518262 -6.741405  \n",
      "142        -6.361302 -7.226300  \n",
      "\n",
      "[143 rows x 780 columns]\n"
     ]
    }
   ],
   "source": [
    "\n",
    "usable_rna = rna_p[rna_p['barcode_id'].isin(usable_ids['barcode_id'])]\n",
    "\n",
    "value_counted = usable_rna.groupby(['soma', 'barcode_id']).size().unstack(fill_value=0)\n",
    "value_counted += 1.0\n",
    "\n",
    "soma_rates = value_counted.divide(np.array(value_counted.sum(axis=1)), axis='rows')\n",
    "soma_log_prob = np.log(soma_rates)\n",
    "\n",
    "process_counts = usable_rna.groupby(['process', 'barcode_id']).size().unstack(fill_value=0)\n",
    "print(soma_log_prob)"
   ],
   "metadata": {
    "collapsed": false,
    "pycharm": {
     "name": "#%%\n"
    }
   }
  },
  {
   "cell_type": "code",
   "execution_count": 6,
   "outputs": [
    {
     "data": {
      "text/plain": "array([[1177.65700862, 3414.54499201, 3244.14060443, ..., 4407.72752283,\n        4405.69870469, 4346.29641815],\n       [ 545.39207312, 2782.29089815, 2612.07639158, ..., 4228.00980352,\n        4231.97902282, 4205.723662  ],\n       [ 206.21398094, 2435.68822517, 2264.37320178, ..., 4105.95189899,\n        4113.27699327, 4105.98119324],\n       ...,\n       [4161.26641994, 4646.20144257, 4529.23866986, ...,  250.83112848,\n         208.77757232,   29.92383469],\n       [4420.75904143, 5580.9379335 , 5432.61924436, ..., 1887.25091125,\n        1846.40642651, 1610.40526908],\n       [4349.38493233, 4255.67985523, 4174.40739308, ...,  887.97704494,\n         928.11831493, 1163.64321287]])"
     },
     "execution_count": 6,
     "metadata": {},
     "output_type": "execute_result"
    }
   ],
   "source": [
    "from skimage.measure import regionprops\n",
    "from sklearn.metrics import pairwise_distances\n",
    "\n",
    "processprops = regionprops(processImage)\n",
    "processes = pd.DataFrame({'process': [process.label for process in processprops],\n",
    "                          'seed_y' : [process.coords[0, 0] for process in processprops],\n",
    "                          'seed_x' : [process.coords[0, 1] for process in processprops],\n",
    "                          'centroid_y' : [process.centroid[0] for process in processprops],\n",
    "                          'centroid_x' : [process.centroid[1] for process in processprops]})\n",
    "\n",
    "somaprops = regionprops(somaImage)\n",
    "somas = pd.DataFrame({'soma': [soma.label for soma in somaprops],\n",
    "                          'seed_y' : [soma.coords[0, 0] for soma in somaprops],\n",
    "                          'seed_x' : [soma.coords[0, 1] for soma in somaprops],\n",
    "                          'centroid_y' : [soma.centroid[0] for soma in somaprops],\n",
    "                          'centroid_x' : [soma.centroid[1] for soma in somaprops]})\n",
    "\n",
    "distance_mat = pairwise_distances(processes[['centroid_y', 'centroid_x']], somas[['centroid_y', 'centroid_x']])\n",
    "distance_mat"
   ],
   "metadata": {
    "collapsed": false,
    "pycharm": {
     "name": "#%%\n"
    }
   }
  },
  {
   "cell_type": "code",
   "execution_count": 7,
   "outputs": [],
   "source": [
    "from skimage.measure import label\n",
    "threshold = np.array(np.array((thresholdedProcessImage > 0) + 2 * (somaImage > 0), dtype=float) > 0, dtype=float)\n",
    "connected = label(threshold)"
   ],
   "metadata": {
    "collapsed": false,
    "pycharm": {
     "name": "#%%\n"
    }
   }
  },
  {
   "cell_type": "code",
   "execution_count": 8,
   "outputs": [
    {
     "data": {
      "text/plain": "         0    1\n0        2    0\n1        2    4\n2        2    6\n3        2    8\n4        2   11\n...    ...  ...\n5283  1444  141\n5284  1445  132\n5285  1445  133\n5286  1446  135\n5287  1446  137\n\n[5288 rows x 2 columns]",
      "text/html": "<div>\n<style scoped>\n    .dataframe tbody tr th:only-of-type {\n        vertical-align: middle;\n    }\n\n    .dataframe tbody tr th {\n        vertical-align: top;\n    }\n\n    .dataframe thead th {\n        text-align: right;\n    }\n</style>\n<table border=\"1\" class=\"dataframe\">\n  <thead>\n    <tr style=\"text-align: right;\">\n      <th></th>\n      <th>0</th>\n      <th>1</th>\n    </tr>\n  </thead>\n  <tbody>\n    <tr>\n      <th>0</th>\n      <td>2</td>\n      <td>0</td>\n    </tr>\n    <tr>\n      <th>1</th>\n      <td>2</td>\n      <td>4</td>\n    </tr>\n    <tr>\n      <th>2</th>\n      <td>2</td>\n      <td>6</td>\n    </tr>\n    <tr>\n      <th>3</th>\n      <td>2</td>\n      <td>8</td>\n    </tr>\n    <tr>\n      <th>4</th>\n      <td>2</td>\n      <td>11</td>\n    </tr>\n    <tr>\n      <th>...</th>\n      <td>...</td>\n      <td>...</td>\n    </tr>\n    <tr>\n      <th>5283</th>\n      <td>1444</td>\n      <td>141</td>\n    </tr>\n    <tr>\n      <th>5284</th>\n      <td>1445</td>\n      <td>132</td>\n    </tr>\n    <tr>\n      <th>5285</th>\n      <td>1445</td>\n      <td>133</td>\n    </tr>\n    <tr>\n      <th>5286</th>\n      <td>1446</td>\n      <td>135</td>\n    </tr>\n    <tr>\n      <th>5287</th>\n      <td>1446</td>\n      <td>137</td>\n    </tr>\n  </tbody>\n</table>\n<p>5288 rows × 2 columns</p>\n</div>"
     },
     "execution_count": 8,
     "metadata": {},
     "output_type": "execute_result"
    }
   ],
   "source": [
    "pot_pairs = pd.DataFrame(np.argwhere(distance_mat < 300))\n",
    "pot_pairs"
   ],
   "metadata": {
    "collapsed": false,
    "pycharm": {
     "name": "#%%\n"
    }
   }
  },
  {
   "cell_type": "code",
   "execution_count": 9,
   "outputs": [],
   "source": [
    "pseedy = processes['seed_y'][pot_pairs[0]]\n",
    "pseedx = processes['seed_x'][pot_pairs[0]]\n",
    "sseedy = somas['seed_y'][pot_pairs[1]]\n",
    "sseedx = somas['seed_x'][pot_pairs[1]]\n",
    "\n",
    "pot_pairs['connected'] = connected[pseedy,pseedx] == connected[sseedy,sseedx]"
   ],
   "metadata": {
    "collapsed": false,
    "pycharm": {
     "name": "#%%\n"
    }
   }
  },
  {
   "cell_type": "code",
   "execution_count": 10,
   "outputs": [],
   "source": [
    "pot_pairs = pot_pairs[pot_pairs['connected']]\n",
    "# print(pot_pairs)\n",
    "\n",
    "process_counts_np=np.zeros((processes['process'].max()+1, usable_ids['barcode_id'].max()+1))\n",
    "for i, row in process_counts.iterrows():\n",
    "    for key in row.keys():\n",
    "        process_counts_np[row.name, key] = row[key]\n",
    "\n",
    "#\n",
    "log_probs_np = np.zeros((somas['soma'].max()+1, usable_ids['barcode_id'].max()+1))\n",
    "for i, row in soma_log_prob.iterrows():\n",
    "    for key in row.keys():\n",
    "        log_probs_np[row.name, key] = row[key]"
   ],
   "metadata": {
    "collapsed": false,
    "pycharm": {
     "name": "#%%\n"
    }
   }
  },
  {
   "cell_type": "code",
   "execution_count": 11,
   "outputs": [
    {
     "name": "stderr",
     "output_type": "stream",
     "text": [
      "C:\\Users\\Harrison\\AppData\\Local\\Temp\\ipykernel_19772\\1911761049.py:1: SettingWithCopyWarning: \n",
      "A value is trying to be set on a copy of a slice from a DataFrame.\n",
      "Try using .loc[row_indexer,col_indexer] = value instead\n",
      "\n",
      "See the caveats in the documentation: https://pandas.pydata.org/pandas-docs/stable/user_guide/indexing.html#returning-a-view-versus-a-copy\n",
      "  pot_pairs['log_prob'] = (log_probs_np[pot_pairs[1], :] * process_counts_np[pot_pairs[0], :]).sum(axis=1)\n"
     ]
    },
    {
     "data": {
      "text/plain": "         0    1  connected     log_prob\n0        2    0       True -1065.343079\n1        2    4       True -1100.770957\n2        2    6       True -1201.869775\n3        2    8       True -1112.570338\n4        2   11       True -1213.336159\n...    ...  ...        ...          ...\n5272  1440  137       True -2353.516981\n5275  1441  141       True  -200.984245\n5283  1444  141       True   -85.444179\n5286  1446  135       True     0.000000\n5287  1446  137       True     0.000000\n\n[3735 rows x 4 columns]",
      "text/html": "<div>\n<style scoped>\n    .dataframe tbody tr th:only-of-type {\n        vertical-align: middle;\n    }\n\n    .dataframe tbody tr th {\n        vertical-align: top;\n    }\n\n    .dataframe thead th {\n        text-align: right;\n    }\n</style>\n<table border=\"1\" class=\"dataframe\">\n  <thead>\n    <tr style=\"text-align: right;\">\n      <th></th>\n      <th>0</th>\n      <th>1</th>\n      <th>connected</th>\n      <th>log_prob</th>\n    </tr>\n  </thead>\n  <tbody>\n    <tr>\n      <th>0</th>\n      <td>2</td>\n      <td>0</td>\n      <td>True</td>\n      <td>-1065.343079</td>\n    </tr>\n    <tr>\n      <th>1</th>\n      <td>2</td>\n      <td>4</td>\n      <td>True</td>\n      <td>-1100.770957</td>\n    </tr>\n    <tr>\n      <th>2</th>\n      <td>2</td>\n      <td>6</td>\n      <td>True</td>\n      <td>-1201.869775</td>\n    </tr>\n    <tr>\n      <th>3</th>\n      <td>2</td>\n      <td>8</td>\n      <td>True</td>\n      <td>-1112.570338</td>\n    </tr>\n    <tr>\n      <th>4</th>\n      <td>2</td>\n      <td>11</td>\n      <td>True</td>\n      <td>-1213.336159</td>\n    </tr>\n    <tr>\n      <th>...</th>\n      <td>...</td>\n      <td>...</td>\n      <td>...</td>\n      <td>...</td>\n    </tr>\n    <tr>\n      <th>5272</th>\n      <td>1440</td>\n      <td>137</td>\n      <td>True</td>\n      <td>-2353.516981</td>\n    </tr>\n    <tr>\n      <th>5275</th>\n      <td>1441</td>\n      <td>141</td>\n      <td>True</td>\n      <td>-200.984245</td>\n    </tr>\n    <tr>\n      <th>5283</th>\n      <td>1444</td>\n      <td>141</td>\n      <td>True</td>\n      <td>-85.444179</td>\n    </tr>\n    <tr>\n      <th>5286</th>\n      <td>1446</td>\n      <td>135</td>\n      <td>True</td>\n      <td>0.000000</td>\n    </tr>\n    <tr>\n      <th>5287</th>\n      <td>1446</td>\n      <td>137</td>\n      <td>True</td>\n      <td>0.000000</td>\n    </tr>\n  </tbody>\n</table>\n<p>3735 rows × 4 columns</p>\n</div>"
     },
     "execution_count": 11,
     "metadata": {},
     "output_type": "execute_result"
    }
   ],
   "source": [
    "pot_pairs['log_prob'] = (log_probs_np[pot_pairs[1], :] * process_counts_np[pot_pairs[0], :]).sum(axis=1)\n",
    "pot_pairs"
   ],
   "metadata": {
    "collapsed": false,
    "pycharm": {
     "name": "#%%\n"
    }
   }
  },
  {
   "cell_type": "code",
   "execution_count": 12,
   "outputs": [
    {
     "name": "stderr",
     "output_type": "stream",
     "text": [
      "C:\\Users\\Harrison\\AppData\\Local\\Temp\\ipykernel_19772\\1821000760.py:8: SettingWithCopyWarning: \n",
      "A value is trying to be set on a copy of a slice from a DataFrame.\n",
      "Try using .loc[row_indexer,col_indexer] = value instead\n",
      "\n",
      "See the caveats in the documentation: https://pandas.pydata.org/pandas-docs/stable/user_guide/indexing.html#returning-a-view-versus-a-copy\n",
      "  assigned_processes['cell'] = [assignments[int(process)] for process in assigned_processes['process']]\n"
     ]
    }
   ],
   "source": [
    "pairs = pot_pairs.loc[pot_pairs.groupby(0)['log_prob'].idxmax(), [0,1]]\n",
    "\n",
    "assignments = {}\n",
    "for i, row in pairs.iterrows():\n",
    "    assignments[int(row[0])] = somas.loc[row[1], 'soma']\n",
    "\n",
    "assigned_processes = processes[processes['process'].isin(pairs[0])]\n",
    "assigned_processes['cell'] = [assignments[int(process)] for process in assigned_processes['process']]"
   ],
   "metadata": {
    "collapsed": false,
    "pycharm": {
     "name": "#%%\n"
    }
   }
  },
  {
   "cell_type": "code",
   "execution_count": 13,
   "outputs": [
    {
     "name": "stderr",
     "output_type": "stream",
     "text": [
      "1287it [00:27, 46.44it/s]\n"
     ]
    }
   ],
   "source": [
    "process_cells = np.zeros(processImage.shape)\n",
    "for i, row in tqdm(assigned_processes.iterrows()):\n",
    "    process_cells[processImage == row['process']] = row['cell']"
   ],
   "metadata": {
    "collapsed": false,
    "pycharm": {
     "name": "#%%\n"
    }
   }
  },
  {
   "cell_type": "code",
   "execution_count": 14,
   "outputs": [],
   "source": [
    "new_cell_image = process_cells + somaImage"
   ],
   "metadata": {
    "collapsed": false,
    "pycharm": {
     "name": "#%%\n"
    }
   }
  },
  {
   "cell_type": "code",
   "execution_count": 18,
   "outputs": [],
   "source": [
    "newer_rna = rna_p[['y', 'x', 'barcode_id', 'global_x', 'global_y', 'global_z']].copy()\n",
    "newer_rna['cell_index'] = np.array(new_cell_image[newer_rna['y'], newer_rna['x']], dtype=int)\n",
    "newer_rna['process_index'] = np.array(process_cells[newer_rna['y'], newer_rna['x']], dtype=int)"
   ],
   "metadata": {
    "collapsed": false,
    "pycharm": {
     "name": "#%%\n"
    }
   }
  },
  {
   "cell_type": "code",
   "execution_count": 19,
   "outputs": [
    {
     "data": {
      "text/plain": "            y     x  barcode_id   global_x   global_y  global_z  cell_index  \\\n0          34    25          15    25.2720    34.3440  5.500123           0   \n1          56    12          94    12.3530    56.3429  0.197061           0   \n2          81    76         292    76.2393    81.6588  2.361537           0   \n3         114   143         301   143.1442   114.2542  4.960983           0   \n4         125    92         311    92.9736   125.2798  3.174463           0   \n...       ...   ...         ...        ...        ...       ...         ...   \n1991679  4113  4135        1165  4135.9170  4113.4360  4.000000           0   \n1991680  4055  4169        1207  4169.1445  4055.1887  0.000000           0   \n1991681  4010  4179        1217  4179.1042  4010.9442  0.484333           0   \n1991682  4039  4160        1224  4160.4014  4039.4536  0.060109           0   \n1991683  4202  4092        1239  4092.4678  4202.0747  3.209599           0   \n\n         process_index  \n0                    0  \n1                    0  \n2                    0  \n3                    0  \n4                    0  \n...                ...  \n1991679              0  \n1991680              0  \n1991681              0  \n1991682              0  \n1991683              0  \n\n[1991684 rows x 8 columns]",
      "text/html": "<div>\n<style scoped>\n    .dataframe tbody tr th:only-of-type {\n        vertical-align: middle;\n    }\n\n    .dataframe tbody tr th {\n        vertical-align: top;\n    }\n\n    .dataframe thead th {\n        text-align: right;\n    }\n</style>\n<table border=\"1\" class=\"dataframe\">\n  <thead>\n    <tr style=\"text-align: right;\">\n      <th></th>\n      <th>y</th>\n      <th>x</th>\n      <th>barcode_id</th>\n      <th>global_x</th>\n      <th>global_y</th>\n      <th>global_z</th>\n      <th>cell_index</th>\n      <th>process_index</th>\n    </tr>\n  </thead>\n  <tbody>\n    <tr>\n      <th>0</th>\n      <td>34</td>\n      <td>25</td>\n      <td>15</td>\n      <td>25.2720</td>\n      <td>34.3440</td>\n      <td>5.500123</td>\n      <td>0</td>\n      <td>0</td>\n    </tr>\n    <tr>\n      <th>1</th>\n      <td>56</td>\n      <td>12</td>\n      <td>94</td>\n      <td>12.3530</td>\n      <td>56.3429</td>\n      <td>0.197061</td>\n      <td>0</td>\n      <td>0</td>\n    </tr>\n    <tr>\n      <th>2</th>\n      <td>81</td>\n      <td>76</td>\n      <td>292</td>\n      <td>76.2393</td>\n      <td>81.6588</td>\n      <td>2.361537</td>\n      <td>0</td>\n      <td>0</td>\n    </tr>\n    <tr>\n      <th>3</th>\n      <td>114</td>\n      <td>143</td>\n      <td>301</td>\n      <td>143.1442</td>\n      <td>114.2542</td>\n      <td>4.960983</td>\n      <td>0</td>\n      <td>0</td>\n    </tr>\n    <tr>\n      <th>4</th>\n      <td>125</td>\n      <td>92</td>\n      <td>311</td>\n      <td>92.9736</td>\n      <td>125.2798</td>\n      <td>3.174463</td>\n      <td>0</td>\n      <td>0</td>\n    </tr>\n    <tr>\n      <th>...</th>\n      <td>...</td>\n      <td>...</td>\n      <td>...</td>\n      <td>...</td>\n      <td>...</td>\n      <td>...</td>\n      <td>...</td>\n      <td>...</td>\n    </tr>\n    <tr>\n      <th>1991679</th>\n      <td>4113</td>\n      <td>4135</td>\n      <td>1165</td>\n      <td>4135.9170</td>\n      <td>4113.4360</td>\n      <td>4.000000</td>\n      <td>0</td>\n      <td>0</td>\n    </tr>\n    <tr>\n      <th>1991680</th>\n      <td>4055</td>\n      <td>4169</td>\n      <td>1207</td>\n      <td>4169.1445</td>\n      <td>4055.1887</td>\n      <td>0.000000</td>\n      <td>0</td>\n      <td>0</td>\n    </tr>\n    <tr>\n      <th>1991681</th>\n      <td>4010</td>\n      <td>4179</td>\n      <td>1217</td>\n      <td>4179.1042</td>\n      <td>4010.9442</td>\n      <td>0.484333</td>\n      <td>0</td>\n      <td>0</td>\n    </tr>\n    <tr>\n      <th>1991682</th>\n      <td>4039</td>\n      <td>4160</td>\n      <td>1224</td>\n      <td>4160.4014</td>\n      <td>4039.4536</td>\n      <td>0.060109</td>\n      <td>0</td>\n      <td>0</td>\n    </tr>\n    <tr>\n      <th>1991683</th>\n      <td>4202</td>\n      <td>4092</td>\n      <td>1239</td>\n      <td>4092.4678</td>\n      <td>4202.0747</td>\n      <td>3.209599</td>\n      <td>0</td>\n      <td>0</td>\n    </tr>\n  </tbody>\n</table>\n<p>1991684 rows × 8 columns</p>\n</div>"
     },
     "execution_count": 19,
     "metadata": {},
     "output_type": "execute_result"
    }
   ],
   "source": [
    "newer_rna"
   ],
   "metadata": {
    "collapsed": false,
    "pycharm": {
     "name": "#%%\n"
    }
   }
  },
  {
   "cell_type": "code",
   "execution_count": 20,
   "outputs": [],
   "source": [
    "ab_a, ab_b, a_to_b, b_to_a = metrics.align_rna(RNA, newer_rna)\n",
    "new_alg_master_accuracy = metrics.accuracy_set(ab_a, ab_b)"
   ],
   "metadata": {
    "collapsed": false,
    "pycharm": {
     "name": "#%%\n"
    }
   }
  },
  {
   "cell_type": "code",
   "execution_count": 21,
   "outputs": [
    {
     "name": "stdout",
     "output_type": "stream",
     "text": [
      "\\text{process-soma} & 0.224 & 0.0847\n",
      "\\text{process-process} & 0.473 & 0.416\n",
      "\\text{soma-soma} & 0.977 & 0.976\n",
      "[0.9498545534710908, 0.5687316933583263, 0.8217303124987541, 0.5687316933583263]\n",
      "[0.5325465027738496, 0.979535469114127, 0.7333118638736398, 0.979535469114127]\n"
     ]
    }
   ],
   "source": [
    "for test in ['process-soma', 'process-process', 'soma-soma']:\n",
    "    results = new_alg_master_accuracy[test][0]\n",
    "    # print([a for a in results])\n",
    "    print(f'\\\\text{\"{\"}{test}{\"}\"} & {results[\"avg same cell if labeled\"]:.3} & {results[\"avg both correclty classified and assigned if labeled\"]:.3}')\n",
    "\n",
    "for test in ['soma', 'process']:\n",
    "    results = new_alg_master_accuracy[test][0]\n",
    "    print([a for a in results])"
   ],
   "metadata": {
    "collapsed": false,
    "pycharm": {
     "name": "#%%\n"
    }
   }
  },
  {
   "cell_type": "code",
   "execution_count": null,
   "outputs": [],
   "source": [],
   "metadata": {
    "collapsed": false,
    "pycharm": {
     "name": "#%%\n"
    }
   }
  }
 ],
 "metadata": {
  "kernelspec": {
   "display_name": "Python 3",
   "language": "python",
   "name": "python3"
  },
  "language_info": {
   "codemirror_mode": {
    "name": "ipython",
    "version": 2
   },
   "file_extension": ".py",
   "mimetype": "text/x-python",
   "name": "python",
   "nbconvert_exporter": "python",
   "pygments_lexer": "ipython2",
   "version": "2.7.6"
  }
 },
 "nbformat": 4,
 "nbformat_minor": 0
}