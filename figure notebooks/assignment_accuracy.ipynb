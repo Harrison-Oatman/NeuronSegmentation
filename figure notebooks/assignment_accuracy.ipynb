{
 "cells": [
  {
   "cell_type": "code",
   "execution_count": 1,
   "metadata": {
    "collapsed": true
   },
   "outputs": [
    {
     "name": "stdout",
     "output_type": "stream",
     "text": [
      "loading complete, calculating accuracy\n",
      "getting human labeled boundaries\n",
      "complete\n"
     ]
    }
   ],
   "source": [
    "from runner import *\n",
    "\n",
    "plotpath = parent_directory + \"\\\\plots\\\\\"\n",
    "plotting.set_dir(plotpath)"
   ]
  },
  {
   "cell_type": "code",
   "execution_count": 2,
   "outputs": [],
   "source": [
    "human_a = pd.read_csv(datapath + \"190225_Kobe1stTraining.csv\")\n",
    "human_b = pd.read_csv(datapath + \"190225_TJS1stTraining.csv\")"
   ],
   "metadata": {
    "collapsed": false,
    "pycharm": {
     "name": "#%%\n"
    }
   }
  },
  {
   "cell_type": "code",
   "execution_count": 3,
   "outputs": [
    {
     "name": "stderr",
     "output_type": "stream",
     "text": [
      "C:\\Users\\Harrison\\AppData\\Local\\Temp\\ipykernel_12140\\3439589673.py:5: UserWarning: Boolean Series key will be reindexed to match DataFrame index.\n",
      "  humans_set = hhab_a[(hhab_a['cell_index'] > 0) & (hhab_b['cell_index'] > 0)]\n"
     ]
    }
   ],
   "source": [
    "hhab_a, hhab_b, a_to_b, b_to_a = metrics.align_rna(human_a, human_b)\n",
    "human_master_accuracy = metrics.accuracy_set(hhab_a, hhab_b)\n",
    "human_master_accuracy_two = metrics.accuracy_set(hhab_b, hhab_a)\n",
    "\n",
    "humans_set = hhab_a[(hhab_a['cell_index'] > 0) & (hhab_b['cell_index'] > 0)]\n",
    "rna_aligned, hset_aligned, _, _ = metrics.align_rna(RNA, humans_set)\n",
    "rna_program_aligned, program_rna_aligned, _, _ = metrics.align_rna(rna_aligned, new_rna)\n",
    "# phab_a, phab_b, a_to_b, b_to_a = metrics.align_rna(humans_set, new_rna)\n",
    "program_human_accuracy = metrics.accuracy_set(rna_program_aligned, program_rna_aligned)"
   ],
   "metadata": {
    "collapsed": false,
    "pycharm": {
     "name": "#%%\n"
    }
   }
  },
  {
   "cell_type": "code",
   "execution_count": 9,
   "outputs": [
    {
     "name": "stdout",
     "output_type": "stream",
     "text": [
      "\\text{process-soma} & 0.833 & 0.78\n",
      "\\text{process-process} & 0.779 & 0.705\n",
      "\\text{soma-soma} & 0.998 & 0.982\n",
      "[0.9787335974413983, 0.9233919386590934, 0.9753975006623918, 0.9233919386590934]\n",
      "[0.6093973469093199, 0.9769057130773824, 0.8501978341540465, 0.9769057130773824]\n"
     ]
    }
   ],
   "source": [
    "for test in ['process-soma', 'process-process', 'soma-soma']:\n",
    "    results = alg_master_accuracy[test][0]\n",
    "    # print([a for a in results])\n",
    "    print(f'\\\\text{\"{\"}{test}{\"}\"} & {results[\"avg same cell if labeled\"]:.3} & {results[\"avg both correclty classified and assigned if labeled\"]:.3}')\n",
    "\n",
    "for test in ['soma', 'process']:\n",
    "    results = alg_master_accuracy[test][0]\n",
    "    print([a for a in results])\n",
    "    # print(f'\\\\text{\"{\"}{test}{\"}\"} & {results[\"avg same cell if labeled\"]:.3} & {results[\"avg both correclty classified and assigned if labeled\"]:.3}')"
   ],
   "metadata": {
    "collapsed": false,
    "pycharm": {
     "name": "#%%\n"
    }
   }
  },
  {
   "cell_type": "code",
   "execution_count": 5,
   "outputs": [
    {
     "name": "stdout",
     "output_type": "stream",
     "text": [
      "\\text{process-soma} & 0.968 & 0.899\n",
      "\\text{process-process} & 0.959 & 0.957\n",
      "\\text{soma-soma} & 0.995 & 0.981\n"
     ]
    }
   ],
   "source": [
    "for test in ['process-soma', 'process-process', 'soma-soma']:\n",
    "    results = human_master_accuracy[test][0]\n",
    "    # print([a for a in results])\n",
    "    print(f'\\\\text{\"{\"}{test}{\"}\"} & {results[\"avg same cell if labeled\"]:.3} & {results[\"avg both correclty classified and assigned if labeled\"]:.3}')"
   ],
   "metadata": {
    "collapsed": false,
    "pycharm": {
     "name": "#%%\n"
    }
   }
  },
  {
   "cell_type": "code",
   "execution_count": 6,
   "outputs": [
    {
     "name": "stdout",
     "output_type": "stream",
     "text": [
      "\\text{process-soma} & 0.833 & 0.796\n",
      "\\text{process-process} & 0.789 & 0.739\n",
      "\\text{soma-soma} & 0.999 & 0.982\n"
     ]
    }
   ],
   "source": [
    "for test in ['process-soma', 'process-process', 'soma-soma']:\n",
    "    results = program_human_accuracy[test][0]\n",
    "    # print([a for a in results])\n",
    "    print(f'\\\\text{\"{\"}{test}{\"}\"} & {results[\"avg same cell if labeled\"]:.3} & {results[\"avg both correclty classified and assigned if labeled\"]:.3}')"
   ],
   "metadata": {
    "collapsed": false,
    "pycharm": {
     "name": "#%%\n"
    }
   }
  },
  {
   "cell_type": "code",
   "execution_count": null,
   "outputs": [],
   "source": [],
   "metadata": {
    "collapsed": false,
    "pycharm": {
     "name": "#%%\n"
    }
   }
  }
 ],
 "metadata": {
  "kernelspec": {
   "display_name": "Python 3",
   "language": "python",
   "name": "python3"
  },
  "language_info": {
   "codemirror_mode": {
    "name": "ipython",
    "version": 2
   },
   "file_extension": ".py",
   "mimetype": "text/x-python",
   "name": "python",
   "nbconvert_exporter": "python",
   "pygments_lexer": "ipython2",
   "version": "2.7.6"
  }
 },
 "nbformat": 4,
 "nbformat_minor": 0
}